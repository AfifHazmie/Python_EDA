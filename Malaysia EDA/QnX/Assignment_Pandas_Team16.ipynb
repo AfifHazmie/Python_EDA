{
  "cells": [
    {
      "cell_type": "markdown",
      "metadata": {
        "id": "view-in-github",
        "colab_type": "text"
      },
      "source": [
        "<a href=\"https://colab.research.google.com/github/drshahizan/Python_EDA/blob/main/Malaysia%20EDA/team%2016/Assignment_Pandas_Team16.ipynb\" target=\"_parent\"><img src=\"https://colab.research.google.com/assets/colab-badge.svg\" alt=\"Open In Colab\"/></a>"
      ]
    },
    {
      "cell_type": "markdown",
      "metadata": {
        "id": "XBtcnU6iVJJx"
      },
      "source": [
        "<h1>Team 16</h1>\n",
        "\n",
        "1.   Lee Jia Xian A20EC0200\n",
        "2.   Lee Ming Qi  A20EC0064\n",
        "\n",
        "\n",
        "## Assignment: Exploratory Data Analysis using Python\n",
        "\n",
        "This is the starter notebook for the case study project. You will pick a real-world dataset of your choice and apply the concepts learned in this course to perform exploratory data analysis. Use this starter notebook as an outline for your project . Focus on documentation and presentation - this Jupyter notebook will also serve as a project report, so make sure to include detailed explanations wherever possible using Markdown cells.\n",
        "\n",
        "## Exploratory Data Analysis\n",
        "According to Wikipedia, EDA “is an approach to analyzing datasets to summarize their main characteristics, often with visual methods”. In my own words, it is about knowing your data, gaining a certain amount of familiarity with the data, before one starts to extract insights from it.\n",
        "\n",
        "Since EDA is such a crucial initial step for all data science projects, the lazy me decided to write a code template for performing EDA on structured datasets. The idea is to spend less time coding and focus more on the analysis of data itself. Scroll down to the bottom for the link to the code, but do read on to find out more about EDA and understand what the code does. More information related to EDA --> [Exploratory Data Analysis: A Practical Guide and Template for Structured Data](https://towardsdatascience.com/exploratory-data-analysis-eda-a-practical-guide-and-template-for-structured-data-abfbf3ee3bd9)\n",
        "\n",
        "\n",
        "![EDA](https://drive.google.com/uc?export=view&id=1GUl7SVxNv_KUIUrDVa048SyqPUbn9w5M)\n",
        "\n",
        "\n",
        "### Submission\n",
        "1.   This exercise must be completed in pairs (2 students in a group).\n",
        "2.   You need to send the *.pynb file. Make sure you have linked Google Colab with your dataset (Github). \n",
        "3.   Please link to your Google Colab file.<a href=\"https://www.utm.my\" target=\"_parent\"><img src=\"https://colab.research.google.com/assets/colab-badge.svg\" alt=\"Open In Colab\"/></a>\n",
        "4.   Please submit it via e-learning.\n",
        "\n",
        "### Evaluation Criteria\n",
        "\n",
        "Your submission will be evaluated using the following criteria:\n",
        "\n",
        "* Dataset must contain at least 5 columns and 1500 rows of data\n",
        "* You must ask and answer at least 5 questions about the dataset\n",
        "* Your submission must include at least 5 visualizations (graphs)\n",
        "* Your submission must include explanations using markdown cells, apart from the code.\n",
        "* Your work must not be plagiarized i.e. copy-pasted from somewhere else.\n",
        "\n",
        "\n",
        "Follow this step-by-step guide to work on your project.\n",
        "\n",
        "### Step 1: Select a real-world dataset \n",
        "\n",
        "- The Malaysian dataset must be used for your case study.\n",
        "- The dataset is available at:\n",
        "  * [Portal Data Terbuka Malaysia](https://www.data.gov.my/data/ms_MY/dataset)\n",
        "  * [Department of Statistics Malaysia](https://www.dosm.gov.my/v1/index.php?r=column3/accordion&menu_id=amZNeW9vTXRydTFwTXAxSmdDL1J4dz09)\n",
        "  * [data.world](https://data.world/datasets/malaysia)\n",
        "  * [Dataportal.asia](https://dataportal.asia/dataset?vocab_economy_names=Malaysia)\n",
        "  *[knoema](https://knoema.com/atlas/Malaysia/datasets)\n",
        "  *[The World Bank](https://data.worldbank.org/country/MY)\n",
        "  * [Dataset Search - Google](https://datasetsearch.research.google.com/)\n",
        "  * [UCI Machine Learning Repository](https://archive.ics.uci.edu/ml/datasets.php)\n",
        "  * [Kaggle datasets](https://www.kaggle.com/datasets)\n",
        "  * [Awesome-public-datasets](https://github.com/awesomedata/awesome-public-datasets)\n",
        "  * [Datahub.io](https://datahub.io/collections)\n",
        "  * [Earthdata](https://www.earthdata.nasa.gov/)\n",
        "  * [CERN Open Data Portal](http://opendata.cern.ch/)\n",
        "\n",
        "### Step 2: Perform data preparation & cleaning\n",
        "\n",
        "- Load the dataset into a data frame using Pandas\n",
        "- Explore the number of rows & columns, ranges of values etc.\n",
        "- Handle missing, incorrect and invalid data\n",
        "- Perform any additional steps (parsing dates, creating additional columns, merging multiple dataset etc.)\n",
        "\n",
        "\n",
        "### Step 3: Perform exploratory analysis & visualization\n",
        "\n",
        "- Compute the mean, sum, range and other interesting statistics for numeric columns\n",
        "- Explore distributions of numeric columns using histograms etc.\n",
        "- Explore relationship between columns using scatter plots, bar charts etc.\n",
        "- Make a note of interesting insights from the exploratory analysis\n",
        "\n",
        "### Step 4: Ask & answer questions about the data\n",
        "\n",
        "- Ask at least 4 interesting questions about your dataset\n",
        "- Answer the questions either by computing the results using Numpy/Pandas or by plotting graphs using Matplotlib/Seaborn\n",
        "- Create new columns, merge multiple dataset and perform grouping/aggregation wherever necessary\n",
        "- Wherever you're using a library function from Pandas/Numpy/Matplotlib etc. explain briefly what it does\n",
        "\n",
        "\n",
        "### Step 5: Summarize your inferences & write a conclusion\n",
        "\n",
        "- Write a summary of what you've learned from the analysis\n",
        "- Include interesting insights and graphs from previous sections\n",
        "- Share ideas for future work on the same topic using other relevant datasets\n",
        "- Share links to resources you found useful during your analysis\n",
        "\n",
        "### Step 6: Make a submission\n",
        "\n",
        "- Upload your notebook to e-learning.\n",
        "\n",
        "\n",
        "### Example Projects\n",
        "\n",
        "Refer to these projects for inspiration:\n",
        "\n",
        "* [Malaysia Immunisation Progress](https://www.kaggle.com/code/koayhongvin/malaysia-immunisation-progress)\n",
        "\n",
        "* [Malaysia Crop EDA](https://www.kaggle.com/code/nazihahnajla/malaysia-crop-eda)\n",
        "\n",
        "* [ASEAN Democracy Index EDA](https://www.kaggle.com/code/aradinka/asean-democracy-index-eda)\n",
        "\n",
        "* [Men's International Football Analysis](https://www.kaggle.com/code/rittickchakraborty/men-s-international-football-analysis) \n",
        "\n",
        "* [Data Science Job Salaries Analysis with Python](https://www.kaggle.com/code/muliasujiastuti/data-science-job-salaries-analysis-with-python)\n",
        "\n",
        "* [Alteration in Technology and Job Role in 2022\n",
        "](https://www.kaggle.com/code/summerakousar/alteration-in-technology-and-job-role-in-2022)\n",
        "\n",
        "* [Data Cleaning Challenge: Inconsistent Data Entry](https://www.kaggle.com/code/melanieng/data-cleaning-challenge-inconsistent-data-entry#Get-our-environment-set-up)\n",
        "\n",
        "**NOTE**: Remove this cell containing the instructions before making your submission. You can do using the \"Edit > Delete Cells\" menu option."
      ]
    },
    {
      "cell_type": "markdown",
      "metadata": {
        "id": "7F8DQl5dVJJ0"
      },
      "source": [
        "# Project Title - Exploratory Data Analysis (EDA) on Real Estate Kuala Lumpur Malaysia <a href=\"https://www.utm.my\" target=\"_parent\"><img src=\"https://colab.research.google.com/assets/colab-badge.svg\" alt=\"Open In Colab\"/></a>\n",
        "\n",
        "Exploratory Data Analysis (EDA) is a crucial step in the data science process that involves analyzing and summarizing a dataset in order to better understand its characteristics and relationships.\n",
        "\n",
        "In this project, we are going to perform EDA on dataset about Real Estate in Kuala Lumpur, Malaysia. The dataset can be found in Kaggle by clicking on this <a href=\"https://www.kaggle.com/datasets/thajegan76/real-estate-kuala-lumpur-malaysia\">link</a>. By using this dataset, we would like to analyze the characteristics of real estate in Kuala Lumpur, Malaysia.\n",
        "\n",
        "Throughout this project, the tools and techniques that will be used are Python libraries. We will be using **numpy** and **pandas** for data cleaning while **matplotlib.pyplot** and **seaborn** for data visualisation. \n",
        "\n",
        "This project is done by **Team QnX**:\n",
        "\n",
        "\n",
        "1.   Lee Ming Qi (A20EC0064)\n",
        "2.   Lee Jia Xian (A20EC0200)\n",
        "\n"
      ]
    },
    {
      "cell_type": "markdown",
      "metadata": {
        "id": "LxWzVndBVJJ1"
      },
      "source": [
        "## Downloading the Dataset\n",
        "\n",
        "**TODO** - import the data directly from Kaggle to Google Colab"
      ]
    },
    {
      "cell_type": "markdown",
      "metadata": {
        "id": "oHRcyidmVJJ1"
      },
      "source": [
        "\n",
        "1. Go to your account, Scroll to API section and Click Expire API Token to remove previous tokens\n",
        "\n",
        "2. Click on Create New API Token - It will download kaggle.json file on your machine.\n",
        "\n",
        "3. Go to your Google Colab project file and run the following commands:\n"
      ]
    },
    {
      "cell_type": "code",
      "execution_count": null,
      "metadata": {
        "id": "_s6ZSPWYVJJ2"
      },
      "outputs": [],
      "source": [
        "#!pip install -q kaggle"
      ]
    },
    {
      "cell_type": "code",
      "source": [
        "from google.colab import files\n",
        "\n",
        "files.upload()\n",
        "\n",
        "# Choose the kaggle.json file that you downloaded"
      ],
      "metadata": {
        "colab": {
          "base_uri": "https://localhost:8080/",
          "height": 92
        },
        "id": "uwOJ4sU533-r",
        "outputId": "2a622018-9b5d-43a1-cae9-58d4e2595af2"
      },
      "execution_count": null,
      "outputs": [
        {
          "output_type": "display_data",
          "data": {
            "text/plain": [
              "<IPython.core.display.HTML object>"
            ],
            "text/html": [
              "\n",
              "     <input type=\"file\" id=\"files-380d3c84-c71c-490f-bb7e-1563dab56814\" name=\"files[]\" multiple disabled\n",
              "        style=\"border:none\" />\n",
              "     <output id=\"result-380d3c84-c71c-490f-bb7e-1563dab56814\">\n",
              "      Upload widget is only available when the cell has been executed in the\n",
              "      current browser session. Please rerun this cell to enable.\n",
              "      </output>\n",
              "      <script>// Copyright 2017 Google LLC\n",
              "//\n",
              "// Licensed under the Apache License, Version 2.0 (the \"License\");\n",
              "// you may not use this file except in compliance with the License.\n",
              "// You may obtain a copy of the License at\n",
              "//\n",
              "//      http://www.apache.org/licenses/LICENSE-2.0\n",
              "//\n",
              "// Unless required by applicable law or agreed to in writing, software\n",
              "// distributed under the License is distributed on an \"AS IS\" BASIS,\n",
              "// WITHOUT WARRANTIES OR CONDITIONS OF ANY KIND, either express or implied.\n",
              "// See the License for the specific language governing permissions and\n",
              "// limitations under the License.\n",
              "\n",
              "/**\n",
              " * @fileoverview Helpers for google.colab Python module.\n",
              " */\n",
              "(function(scope) {\n",
              "function span(text, styleAttributes = {}) {\n",
              "  const element = document.createElement('span');\n",
              "  element.textContent = text;\n",
              "  for (const key of Object.keys(styleAttributes)) {\n",
              "    element.style[key] = styleAttributes[key];\n",
              "  }\n",
              "  return element;\n",
              "}\n",
              "\n",
              "// Max number of bytes which will be uploaded at a time.\n",
              "const MAX_PAYLOAD_SIZE = 100 * 1024;\n",
              "\n",
              "function _uploadFiles(inputId, outputId) {\n",
              "  const steps = uploadFilesStep(inputId, outputId);\n",
              "  const outputElement = document.getElementById(outputId);\n",
              "  // Cache steps on the outputElement to make it available for the next call\n",
              "  // to uploadFilesContinue from Python.\n",
              "  outputElement.steps = steps;\n",
              "\n",
              "  return _uploadFilesContinue(outputId);\n",
              "}\n",
              "\n",
              "// This is roughly an async generator (not supported in the browser yet),\n",
              "// where there are multiple asynchronous steps and the Python side is going\n",
              "// to poll for completion of each step.\n",
              "// This uses a Promise to block the python side on completion of each step,\n",
              "// then passes the result of the previous step as the input to the next step.\n",
              "function _uploadFilesContinue(outputId) {\n",
              "  const outputElement = document.getElementById(outputId);\n",
              "  const steps = outputElement.steps;\n",
              "\n",
              "  const next = steps.next(outputElement.lastPromiseValue);\n",
              "  return Promise.resolve(next.value.promise).then((value) => {\n",
              "    // Cache the last promise value to make it available to the next\n",
              "    // step of the generator.\n",
              "    outputElement.lastPromiseValue = value;\n",
              "    return next.value.response;\n",
              "  });\n",
              "}\n",
              "\n",
              "/**\n",
              " * Generator function which is called between each async step of the upload\n",
              " * process.\n",
              " * @param {string} inputId Element ID of the input file picker element.\n",
              " * @param {string} outputId Element ID of the output display.\n",
              " * @return {!Iterable<!Object>} Iterable of next steps.\n",
              " */\n",
              "function* uploadFilesStep(inputId, outputId) {\n",
              "  const inputElement = document.getElementById(inputId);\n",
              "  inputElement.disabled = false;\n",
              "\n",
              "  const outputElement = document.getElementById(outputId);\n",
              "  outputElement.innerHTML = '';\n",
              "\n",
              "  const pickedPromise = new Promise((resolve) => {\n",
              "    inputElement.addEventListener('change', (e) => {\n",
              "      resolve(e.target.files);\n",
              "    });\n",
              "  });\n",
              "\n",
              "  const cancel = document.createElement('button');\n",
              "  inputElement.parentElement.appendChild(cancel);\n",
              "  cancel.textContent = 'Cancel upload';\n",
              "  const cancelPromise = new Promise((resolve) => {\n",
              "    cancel.onclick = () => {\n",
              "      resolve(null);\n",
              "    };\n",
              "  });\n",
              "\n",
              "  // Wait for the user to pick the files.\n",
              "  const files = yield {\n",
              "    promise: Promise.race([pickedPromise, cancelPromise]),\n",
              "    response: {\n",
              "      action: 'starting',\n",
              "    }\n",
              "  };\n",
              "\n",
              "  cancel.remove();\n",
              "\n",
              "  // Disable the input element since further picks are not allowed.\n",
              "  inputElement.disabled = true;\n",
              "\n",
              "  if (!files) {\n",
              "    return {\n",
              "      response: {\n",
              "        action: 'complete',\n",
              "      }\n",
              "    };\n",
              "  }\n",
              "\n",
              "  for (const file of files) {\n",
              "    const li = document.createElement('li');\n",
              "    li.append(span(file.name, {fontWeight: 'bold'}));\n",
              "    li.append(span(\n",
              "        `(${file.type || 'n/a'}) - ${file.size} bytes, ` +\n",
              "        `last modified: ${\n",
              "            file.lastModifiedDate ? file.lastModifiedDate.toLocaleDateString() :\n",
              "                                    'n/a'} - `));\n",
              "    const percent = span('0% done');\n",
              "    li.appendChild(percent);\n",
              "\n",
              "    outputElement.appendChild(li);\n",
              "\n",
              "    const fileDataPromise = new Promise((resolve) => {\n",
              "      const reader = new FileReader();\n",
              "      reader.onload = (e) => {\n",
              "        resolve(e.target.result);\n",
              "      };\n",
              "      reader.readAsArrayBuffer(file);\n",
              "    });\n",
              "    // Wait for the data to be ready.\n",
              "    let fileData = yield {\n",
              "      promise: fileDataPromise,\n",
              "      response: {\n",
              "        action: 'continue',\n",
              "      }\n",
              "    };\n",
              "\n",
              "    // Use a chunked sending to avoid message size limits. See b/62115660.\n",
              "    let position = 0;\n",
              "    do {\n",
              "      const length = Math.min(fileData.byteLength - position, MAX_PAYLOAD_SIZE);\n",
              "      const chunk = new Uint8Array(fileData, position, length);\n",
              "      position += length;\n",
              "\n",
              "      const base64 = btoa(String.fromCharCode.apply(null, chunk));\n",
              "      yield {\n",
              "        response: {\n",
              "          action: 'append',\n",
              "          file: file.name,\n",
              "          data: base64,\n",
              "        },\n",
              "      };\n",
              "\n",
              "      let percentDone = fileData.byteLength === 0 ?\n",
              "          100 :\n",
              "          Math.round((position / fileData.byteLength) * 100);\n",
              "      percent.textContent = `${percentDone}% done`;\n",
              "\n",
              "    } while (position < fileData.byteLength);\n",
              "  }\n",
              "\n",
              "  // All done.\n",
              "  yield {\n",
              "    response: {\n",
              "      action: 'complete',\n",
              "    }\n",
              "  };\n",
              "}\n",
              "\n",
              "scope.google = scope.google || {};\n",
              "scope.google.colab = scope.google.colab || {};\n",
              "scope.google.colab._files = {\n",
              "  _uploadFiles,\n",
              "  _uploadFilesContinue,\n",
              "};\n",
              "})(self);\n",
              "</script> "
            ]
          },
          "metadata": {}
        },
        {
          "output_type": "stream",
          "name": "stdout",
          "text": [
            "Saving kaggle.json to kaggle (1).json\n"
          ]
        },
        {
          "output_type": "execute_result",
          "data": {
            "text/plain": [
              "{'kaggle.json': b'{\"username\":\"leemingqi\",\"key\":\"31677066beb23f6e38d3bbf1faeeacd8\"}'}"
            ]
          },
          "metadata": {},
          "execution_count": 35
        }
      ]
    },
    {
      "cell_type": "code",
      "source": [
        "! mkdir ~/.kaggle\n",
        "\n",
        "! cp kaggle.json ~/.kaggle/\n",
        "\n",
        "# Make directory named kaggle and copy kaggle.json file there."
      ],
      "metadata": {
        "id": "ZqUbE2wC4TiG",
        "colab": {
          "base_uri": "https://localhost:8080/"
        },
        "outputId": "666a4dbd-09a7-48fd-b1d9-da0ead971464"
      },
      "execution_count": null,
      "outputs": [
        {
          "output_type": "stream",
          "name": "stdout",
          "text": [
            "mkdir: cannot create directory ‘/root/.kaggle’: File exists\n"
          ]
        }
      ]
    },
    {
      "cell_type": "code",
      "source": [
        "! chmod 600 ~/.kaggle/kaggle.json\n",
        "\n",
        "# Change the permissions of the file."
      ],
      "metadata": {
        "id": "YFgZpZU14iNQ"
      },
      "execution_count": null,
      "outputs": []
    },
    {
      "cell_type": "markdown",
      "metadata": {
        "id": "GhhO14GEVJJ2"
      },
      "source": [
        "Let's begin by downloading the data, and listing the files within the dataset."
      ]
    },
    {
      "cell_type": "code",
      "execution_count": null,
      "metadata": {
        "id": "90nIoWQtVJJ3",
        "colab": {
          "base_uri": "https://localhost:8080/"
        },
        "outputId": "a28d328e-0958-41cd-8e53-d86a02460ca6"
      },
      "outputs": [
        {
          "output_type": "stream",
          "name": "stdout",
          "text": [
            "Downloading real-estate-kuala-lumpur-malaysia.zip to /content\n",
            "\r  0% 0.00/177k [00:00<?, ?B/s]\n",
            "\r100% 177k/177k [00:00<00:00, 50.5MB/s]\n"
          ]
        }
      ],
      "source": [
        "!kaggle datasets download -d thajegan76/real-estate-kuala-lumpur-malaysia"
      ]
    },
    {
      "cell_type": "code",
      "execution_count": null,
      "metadata": {
        "id": "oAVmLuq2VJJ3",
        "colab": {
          "base_uri": "https://localhost:8080/"
        },
        "outputId": "b6727df5-4e8b-4a4a-a7dc-11579bfefcb9"
      },
      "outputs": [
        {
          "output_type": "stream",
          "name": "stdout",
          "text": [
            "name                size  creationDate         \n",
            "-----------------  -----  -------------------  \n",
            "kl_properties.csv  950KB  2021-10-09 04:33:10  \n"
          ]
        }
      ],
      "source": [
        "!kaggle datasets files thajegan76/real-estate-kuala-lumpur-malaysia"
      ]
    },
    {
      "cell_type": "code",
      "source": [
        "#Unzip the data remove zip\n",
        "!unzip real-estate-kuala-lumpur-malaysia.zip && rm real-estate-kuala-lumpur-malaysia.zip"
      ],
      "metadata": {
        "colab": {
          "base_uri": "https://localhost:8080/"
        },
        "id": "Tn_on6wM5QKU",
        "outputId": "6efac0f4-b8bf-4765-d745-d73893f693cc"
      },
      "execution_count": null,
      "outputs": [
        {
          "output_type": "stream",
          "name": "stdout",
          "text": [
            "Archive:  real-estate-kuala-lumpur-malaysia.zip\n",
            "replace kl_properties.csv? [y]es, [n]o, [A]ll, [N]one, [r]ename: n\n"
          ]
        }
      ]
    },
    {
      "cell_type": "markdown",
      "metadata": {
        "id": "XXnPmr-JVJJ3"
      },
      "source": [
        "The dataset has been downloaded and extracted."
      ]
    },
    {
      "cell_type": "markdown",
      "metadata": {
        "id": "u0vucnGFVJJ5"
      },
      "source": [
        "## Data Preparation and Cleaning\n",
        "\n",
        "**TODO** - Write some explanation here.\n",
        "\n"
      ]
    },
    {
      "cell_type": "markdown",
      "metadata": {
        "id": "gBzC1JheVJJ5"
      },
      "source": [
        "\n",
        "> - Import the required Python libraries\n",
        "> - Load the dataset into a data frame using Pandas\n",
        "> - Explore the number of rows & columns, ranges of values etc.\n",
        "> - Handle missing, incorrect and invalid data\n",
        "> - Perform any additional steps (parsing dates, creating additional columns, merging multiple dataset etc.)"
      ]
    },
    {
      "cell_type": "markdown",
      "source": [
        "\n",
        "> Import the required Python dependencies\n",
        "\n",
        "\n"
      ],
      "metadata": {
        "id": "HvcW4aki7cCN"
      }
    },
    {
      "cell_type": "code",
      "execution_count": null,
      "metadata": {
        "id": "df5R-2s3VJJ5"
      },
      "outputs": [],
      "source": [
        "import numpy as np\n",
        "import pandas as pd"
      ]
    },
    {
      "cell_type": "markdown",
      "source": [
        "> Load the dataset into a data frame using *Pandas*\n",
        "\n",
        "\n",
        "\n"
      ],
      "metadata": {
        "id": "igEN7NdX7nzc"
      }
    },
    {
      "cell_type": "code",
      "execution_count": null,
      "metadata": {
        "id": "t26lvNVLVJJ5"
      },
      "outputs": [],
      "source": [
        "df = pd.read_csv(\"kl_properties.csv\")"
      ]
    },
    {
      "cell_type": "markdown",
      "source": [
        "> View the first 5 rows of the dataframe"
      ],
      "metadata": {
        "id": "JOQDP9ka8Ldb"
      }
    },
    {
      "cell_type": "code",
      "execution_count": null,
      "metadata": {
        "id": "KribcC_XVJJ5",
        "colab": {
          "base_uri": "https://localhost:8080/",
          "height": 337
        },
        "outputId": "892c779e-d0af-4c3f-bc55-635bb6844d76"
      },
      "outputs": [
        {
          "output_type": "execute_result",
          "data": {
            "text/plain": [
              "                                               Title       Price    Area  \\\n",
              "0  M City Serviced Residence Jalan Ampang 886sf, ...  RM 690 000  AMPANG   \n",
              "1  Cheapest fully furnished suria jelatek residen...  RM 420 000  AMPANG   \n",
              "2  3bed 2bath Suria Jelatek Condo 5 min to LRT an...  RM 420 000  AMPANG   \n",
              "3  [30% Below,1037sf] Direct Subsale not Auction!...  RM 568 444  AMPANG   \n",
              "4  HOT area | Tiara Ampang | Near Ampang Point | ...  RM 618 000  AMPANG   \n",
              "\n",
              "     Category         Size    Bedrooms    Bathrooms  \n",
              "0  Apartments   886 sq.ft.  2 Bedrooms  2 Bathrooms  \n",
              "1  Apartments   858 sq.ft.  3 Bedrooms  2 Bathrooms  \n",
              "2  Apartments   860 sq.ft.  3 Bedrooms  2 Bathrooms  \n",
              "3  Apartments  1037 sq.ft.  3 Bedrooms  2 Bathrooms  \n",
              "4  Apartments  1650 sq.ft.  4 Bedrooms  2 Bathrooms  "
            ],
            "text/html": [
              "\n",
              "  <div id=\"df-38f931eb-a57b-4244-9278-adfffe74645b\">\n",
              "    <div class=\"colab-df-container\">\n",
              "      <div>\n",
              "<style scoped>\n",
              "    .dataframe tbody tr th:only-of-type {\n",
              "        vertical-align: middle;\n",
              "    }\n",
              "\n",
              "    .dataframe tbody tr th {\n",
              "        vertical-align: top;\n",
              "    }\n",
              "\n",
              "    .dataframe thead th {\n",
              "        text-align: right;\n",
              "    }\n",
              "</style>\n",
              "<table border=\"1\" class=\"dataframe\">\n",
              "  <thead>\n",
              "    <tr style=\"text-align: right;\">\n",
              "      <th></th>\n",
              "      <th>Title</th>\n",
              "      <th>Price</th>\n",
              "      <th>Area</th>\n",
              "      <th>Category</th>\n",
              "      <th>Size</th>\n",
              "      <th>Bedrooms</th>\n",
              "      <th>Bathrooms</th>\n",
              "    </tr>\n",
              "  </thead>\n",
              "  <tbody>\n",
              "    <tr>\n",
              "      <th>0</th>\n",
              "      <td>M City Serviced Residence Jalan Ampang 886sf, ...</td>\n",
              "      <td>RM 690 000</td>\n",
              "      <td>AMPANG</td>\n",
              "      <td>Apartments</td>\n",
              "      <td>886 sq.ft.</td>\n",
              "      <td>2 Bedrooms</td>\n",
              "      <td>2 Bathrooms</td>\n",
              "    </tr>\n",
              "    <tr>\n",
              "      <th>1</th>\n",
              "      <td>Cheapest fully furnished suria jelatek residen...</td>\n",
              "      <td>RM 420 000</td>\n",
              "      <td>AMPANG</td>\n",
              "      <td>Apartments</td>\n",
              "      <td>858 sq.ft.</td>\n",
              "      <td>3 Bedrooms</td>\n",
              "      <td>2 Bathrooms</td>\n",
              "    </tr>\n",
              "    <tr>\n",
              "      <th>2</th>\n",
              "      <td>3bed 2bath Suria Jelatek Condo 5 min to LRT an...</td>\n",
              "      <td>RM 420 000</td>\n",
              "      <td>AMPANG</td>\n",
              "      <td>Apartments</td>\n",
              "      <td>860 sq.ft.</td>\n",
              "      <td>3 Bedrooms</td>\n",
              "      <td>2 Bathrooms</td>\n",
              "    </tr>\n",
              "    <tr>\n",
              "      <th>3</th>\n",
              "      <td>[30% Below,1037sf] Direct Subsale not Auction!...</td>\n",
              "      <td>RM 568 444</td>\n",
              "      <td>AMPANG</td>\n",
              "      <td>Apartments</td>\n",
              "      <td>1037 sq.ft.</td>\n",
              "      <td>3 Bedrooms</td>\n",
              "      <td>2 Bathrooms</td>\n",
              "    </tr>\n",
              "    <tr>\n",
              "      <th>4</th>\n",
              "      <td>HOT area | Tiara Ampang | Near Ampang Point | ...</td>\n",
              "      <td>RM 618 000</td>\n",
              "      <td>AMPANG</td>\n",
              "      <td>Apartments</td>\n",
              "      <td>1650 sq.ft.</td>\n",
              "      <td>4 Bedrooms</td>\n",
              "      <td>2 Bathrooms</td>\n",
              "    </tr>\n",
              "  </tbody>\n",
              "</table>\n",
              "</div>\n",
              "      <button class=\"colab-df-convert\" onclick=\"convertToInteractive('df-38f931eb-a57b-4244-9278-adfffe74645b')\"\n",
              "              title=\"Convert this dataframe to an interactive table.\"\n",
              "              style=\"display:none;\">\n",
              "        \n",
              "  <svg xmlns=\"http://www.w3.org/2000/svg\" height=\"24px\"viewBox=\"0 0 24 24\"\n",
              "       width=\"24px\">\n",
              "    <path d=\"M0 0h24v24H0V0z\" fill=\"none\"/>\n",
              "    <path d=\"M18.56 5.44l.94 2.06.94-2.06 2.06-.94-2.06-.94-.94-2.06-.94 2.06-2.06.94zm-11 1L8.5 8.5l.94-2.06 2.06-.94-2.06-.94L8.5 2.5l-.94 2.06-2.06.94zm10 10l.94 2.06.94-2.06 2.06-.94-2.06-.94-.94-2.06-.94 2.06-2.06.94z\"/><path d=\"M17.41 7.96l-1.37-1.37c-.4-.4-.92-.59-1.43-.59-.52 0-1.04.2-1.43.59L10.3 9.45l-7.72 7.72c-.78.78-.78 2.05 0 2.83L4 21.41c.39.39.9.59 1.41.59.51 0 1.02-.2 1.41-.59l7.78-7.78 2.81-2.81c.8-.78.8-2.07 0-2.86zM5.41 20L4 18.59l7.72-7.72 1.47 1.35L5.41 20z\"/>\n",
              "  </svg>\n",
              "      </button>\n",
              "      \n",
              "  <style>\n",
              "    .colab-df-container {\n",
              "      display:flex;\n",
              "      flex-wrap:wrap;\n",
              "      gap: 12px;\n",
              "    }\n",
              "\n",
              "    .colab-df-convert {\n",
              "      background-color: #E8F0FE;\n",
              "      border: none;\n",
              "      border-radius: 50%;\n",
              "      cursor: pointer;\n",
              "      display: none;\n",
              "      fill: #1967D2;\n",
              "      height: 32px;\n",
              "      padding: 0 0 0 0;\n",
              "      width: 32px;\n",
              "    }\n",
              "\n",
              "    .colab-df-convert:hover {\n",
              "      background-color: #E2EBFA;\n",
              "      box-shadow: 0px 1px 2px rgba(60, 64, 67, 0.3), 0px 1px 3px 1px rgba(60, 64, 67, 0.15);\n",
              "      fill: #174EA6;\n",
              "    }\n",
              "\n",
              "    [theme=dark] .colab-df-convert {\n",
              "      background-color: #3B4455;\n",
              "      fill: #D2E3FC;\n",
              "    }\n",
              "\n",
              "    [theme=dark] .colab-df-convert:hover {\n",
              "      background-color: #434B5C;\n",
              "      box-shadow: 0px 1px 3px 1px rgba(0, 0, 0, 0.15);\n",
              "      filter: drop-shadow(0px 1px 2px rgba(0, 0, 0, 0.3));\n",
              "      fill: #FFFFFF;\n",
              "    }\n",
              "  </style>\n",
              "\n",
              "      <script>\n",
              "        const buttonEl =\n",
              "          document.querySelector('#df-38f931eb-a57b-4244-9278-adfffe74645b button.colab-df-convert');\n",
              "        buttonEl.style.display =\n",
              "          google.colab.kernel.accessAllowed ? 'block' : 'none';\n",
              "\n",
              "        async function convertToInteractive(key) {\n",
              "          const element = document.querySelector('#df-38f931eb-a57b-4244-9278-adfffe74645b');\n",
              "          const dataTable =\n",
              "            await google.colab.kernel.invokeFunction('convertToInteractive',\n",
              "                                                     [key], {});\n",
              "          if (!dataTable) return;\n",
              "\n",
              "          const docLinkHtml = 'Like what you see? Visit the ' +\n",
              "            '<a target=\"_blank\" href=https://colab.research.google.com/notebooks/data_table.ipynb>data table notebook</a>'\n",
              "            + ' to learn more about interactive tables.';\n",
              "          element.innerHTML = '';\n",
              "          dataTable['output_type'] = 'display_data';\n",
              "          await google.colab.output.renderOutput(dataTable, element);\n",
              "          const docLink = document.createElement('div');\n",
              "          docLink.innerHTML = docLinkHtml;\n",
              "          element.appendChild(docLink);\n",
              "        }\n",
              "      </script>\n",
              "    </div>\n",
              "  </div>\n",
              "  "
            ]
          },
          "metadata": {},
          "execution_count": 43
        }
      ],
      "source": [
        "df.head(5)"
      ]
    },
    {
      "cell_type": "markdown",
      "source": [
        "> Explore the number of rows & columns, ranges of values etc."
      ],
      "metadata": {
        "id": "TfhPOiU08Yvo"
      }
    },
    {
      "cell_type": "code",
      "execution_count": null,
      "metadata": {
        "id": "7mUpY22aVJJ6",
        "colab": {
          "base_uri": "https://localhost:8080/"
        },
        "outputId": "967616e8-9455-47ae-fd9b-00032a55258a"
      },
      "outputs": [
        {
          "output_type": "stream",
          "name": "stdout",
          "text": [
            "<class 'pandas.core.frame.DataFrame'>\n",
            "RangeIndex: 7791 entries, 0 to 7790\n",
            "Data columns (total 7 columns):\n",
            " #   Column     Non-Null Count  Dtype \n",
            "---  ------     --------------  ----- \n",
            " 0   Title      7791 non-null   object\n",
            " 1   Price      7791 non-null   object\n",
            " 2   Area       7791 non-null   object\n",
            " 3   Category   7791 non-null   object\n",
            " 4   Size       7791 non-null   object\n",
            " 5   Bedrooms   7791 non-null   object\n",
            " 6   Bathrooms  7791 non-null   object\n",
            "dtypes: object(7)\n",
            "memory usage: 426.2+ KB\n"
          ]
        }
      ],
      "source": [
        "df.info()"
      ]
    },
    {
      "cell_type": "code",
      "execution_count": null,
      "metadata": {
        "id": "h46ilQakVJJ6",
        "colab": {
          "base_uri": "https://localhost:8080/",
          "height": 236
        },
        "outputId": "4826f098-77d7-4ce1-940d-107db1480020"
      },
      "outputs": [
        {
          "output_type": "execute_result",
          "data": {
            "text/plain": [
              "                                                Title       Price    Area  \\\n",
              "count                                            7791        7791    7791   \n",
              "unique                                           7504         849      14   \n",
              "top     Pangsapuri Mutiara Magna, Metro Prima, Kepong  RM 300 000  CHERAS   \n",
              "freq                                                5         257    2705   \n",
              "\n",
              "          Category        Size    Bedrooms    Bathrooms  \n",
              "count         7791        7791        7791         7791  \n",
              "unique           1         914          10            8  \n",
              "top     Apartments  650 sq.ft.  3 Bedrooms  2 Bathrooms  \n",
              "freq          7791         524        5765         6169  "
            ],
            "text/html": [
              "\n",
              "  <div id=\"df-f569bd27-a077-4129-af76-9eac7afb3699\">\n",
              "    <div class=\"colab-df-container\">\n",
              "      <div>\n",
              "<style scoped>\n",
              "    .dataframe tbody tr th:only-of-type {\n",
              "        vertical-align: middle;\n",
              "    }\n",
              "\n",
              "    .dataframe tbody tr th {\n",
              "        vertical-align: top;\n",
              "    }\n",
              "\n",
              "    .dataframe thead th {\n",
              "        text-align: right;\n",
              "    }\n",
              "</style>\n",
              "<table border=\"1\" class=\"dataframe\">\n",
              "  <thead>\n",
              "    <tr style=\"text-align: right;\">\n",
              "      <th></th>\n",
              "      <th>Title</th>\n",
              "      <th>Price</th>\n",
              "      <th>Area</th>\n",
              "      <th>Category</th>\n",
              "      <th>Size</th>\n",
              "      <th>Bedrooms</th>\n",
              "      <th>Bathrooms</th>\n",
              "    </tr>\n",
              "  </thead>\n",
              "  <tbody>\n",
              "    <tr>\n",
              "      <th>count</th>\n",
              "      <td>7791</td>\n",
              "      <td>7791</td>\n",
              "      <td>7791</td>\n",
              "      <td>7791</td>\n",
              "      <td>7791</td>\n",
              "      <td>7791</td>\n",
              "      <td>7791</td>\n",
              "    </tr>\n",
              "    <tr>\n",
              "      <th>unique</th>\n",
              "      <td>7504</td>\n",
              "      <td>849</td>\n",
              "      <td>14</td>\n",
              "      <td>1</td>\n",
              "      <td>914</td>\n",
              "      <td>10</td>\n",
              "      <td>8</td>\n",
              "    </tr>\n",
              "    <tr>\n",
              "      <th>top</th>\n",
              "      <td>Pangsapuri Mutiara Magna, Metro Prima, Kepong</td>\n",
              "      <td>RM 300 000</td>\n",
              "      <td>CHERAS</td>\n",
              "      <td>Apartments</td>\n",
              "      <td>650 sq.ft.</td>\n",
              "      <td>3 Bedrooms</td>\n",
              "      <td>2 Bathrooms</td>\n",
              "    </tr>\n",
              "    <tr>\n",
              "      <th>freq</th>\n",
              "      <td>5</td>\n",
              "      <td>257</td>\n",
              "      <td>2705</td>\n",
              "      <td>7791</td>\n",
              "      <td>524</td>\n",
              "      <td>5765</td>\n",
              "      <td>6169</td>\n",
              "    </tr>\n",
              "  </tbody>\n",
              "</table>\n",
              "</div>\n",
              "      <button class=\"colab-df-convert\" onclick=\"convertToInteractive('df-f569bd27-a077-4129-af76-9eac7afb3699')\"\n",
              "              title=\"Convert this dataframe to an interactive table.\"\n",
              "              style=\"display:none;\">\n",
              "        \n",
              "  <svg xmlns=\"http://www.w3.org/2000/svg\" height=\"24px\"viewBox=\"0 0 24 24\"\n",
              "       width=\"24px\">\n",
              "    <path d=\"M0 0h24v24H0V0z\" fill=\"none\"/>\n",
              "    <path d=\"M18.56 5.44l.94 2.06.94-2.06 2.06-.94-2.06-.94-.94-2.06-.94 2.06-2.06.94zm-11 1L8.5 8.5l.94-2.06 2.06-.94-2.06-.94L8.5 2.5l-.94 2.06-2.06.94zm10 10l.94 2.06.94-2.06 2.06-.94-2.06-.94-.94-2.06-.94 2.06-2.06.94z\"/><path d=\"M17.41 7.96l-1.37-1.37c-.4-.4-.92-.59-1.43-.59-.52 0-1.04.2-1.43.59L10.3 9.45l-7.72 7.72c-.78.78-.78 2.05 0 2.83L4 21.41c.39.39.9.59 1.41.59.51 0 1.02-.2 1.41-.59l7.78-7.78 2.81-2.81c.8-.78.8-2.07 0-2.86zM5.41 20L4 18.59l7.72-7.72 1.47 1.35L5.41 20z\"/>\n",
              "  </svg>\n",
              "      </button>\n",
              "      \n",
              "  <style>\n",
              "    .colab-df-container {\n",
              "      display:flex;\n",
              "      flex-wrap:wrap;\n",
              "      gap: 12px;\n",
              "    }\n",
              "\n",
              "    .colab-df-convert {\n",
              "      background-color: #E8F0FE;\n",
              "      border: none;\n",
              "      border-radius: 50%;\n",
              "      cursor: pointer;\n",
              "      display: none;\n",
              "      fill: #1967D2;\n",
              "      height: 32px;\n",
              "      padding: 0 0 0 0;\n",
              "      width: 32px;\n",
              "    }\n",
              "\n",
              "    .colab-df-convert:hover {\n",
              "      background-color: #E2EBFA;\n",
              "      box-shadow: 0px 1px 2px rgba(60, 64, 67, 0.3), 0px 1px 3px 1px rgba(60, 64, 67, 0.15);\n",
              "      fill: #174EA6;\n",
              "    }\n",
              "\n",
              "    [theme=dark] .colab-df-convert {\n",
              "      background-color: #3B4455;\n",
              "      fill: #D2E3FC;\n",
              "    }\n",
              "\n",
              "    [theme=dark] .colab-df-convert:hover {\n",
              "      background-color: #434B5C;\n",
              "      box-shadow: 0px 1px 3px 1px rgba(0, 0, 0, 0.15);\n",
              "      filter: drop-shadow(0px 1px 2px rgba(0, 0, 0, 0.3));\n",
              "      fill: #FFFFFF;\n",
              "    }\n",
              "  </style>\n",
              "\n",
              "      <script>\n",
              "        const buttonEl =\n",
              "          document.querySelector('#df-f569bd27-a077-4129-af76-9eac7afb3699 button.colab-df-convert');\n",
              "        buttonEl.style.display =\n",
              "          google.colab.kernel.accessAllowed ? 'block' : 'none';\n",
              "\n",
              "        async function convertToInteractive(key) {\n",
              "          const element = document.querySelector('#df-f569bd27-a077-4129-af76-9eac7afb3699');\n",
              "          const dataTable =\n",
              "            await google.colab.kernel.invokeFunction('convertToInteractive',\n",
              "                                                     [key], {});\n",
              "          if (!dataTable) return;\n",
              "\n",
              "          const docLinkHtml = 'Like what you see? Visit the ' +\n",
              "            '<a target=\"_blank\" href=https://colab.research.google.com/notebooks/data_table.ipynb>data table notebook</a>'\n",
              "            + ' to learn more about interactive tables.';\n",
              "          element.innerHTML = '';\n",
              "          dataTable['output_type'] = 'display_data';\n",
              "          await google.colab.output.renderOutput(dataTable, element);\n",
              "          const docLink = document.createElement('div');\n",
              "          docLink.innerHTML = docLinkHtml;\n",
              "          element.appendChild(docLink);\n",
              "        }\n",
              "      </script>\n",
              "    </div>\n",
              "  </div>\n",
              "  "
            ]
          },
          "metadata": {},
          "execution_count": 45
        }
      ],
      "source": [
        "df.describe()"
      ]
    },
    {
      "cell_type": "markdown",
      "source": [
        "> Handle missing, incorrect and invalid data"
      ],
      "metadata": {
        "id": "AKruY_Kx89Pp"
      }
    },
    {
      "cell_type": "code",
      "execution_count": null,
      "metadata": {
        "id": "cfcSY6YSVJJ6",
        "colab": {
          "base_uri": "https://localhost:8080/"
        },
        "outputId": "a6b5fa32-dc74-421f-f83d-f5fb4e41902d"
      },
      "outputs": [
        {
          "output_type": "execute_result",
          "data": {
            "text/plain": [
              "Title        0\n",
              "Price        0\n",
              "Area         0\n",
              "Category     0\n",
              "Size         0\n",
              "Bedrooms     0\n",
              "Bathrooms    0\n",
              "dtype: int64"
            ]
          },
          "metadata": {},
          "execution_count": 46
        }
      ],
      "source": [
        "# check if there is any null value in each column\n",
        "df.isnull().sum()"
      ]
    },
    {
      "cell_type": "markdown",
      "source": [
        "\n",
        "\n",
        "> As shown above, there is no null value in our table. Hence, we are not required to remove any rows which contain the Null value. Next, we will be dropping the duplicate rows\n",
        "\n"
      ],
      "metadata": {
        "id": "c3ummBoR-vUZ"
      }
    },
    {
      "cell_type": "code",
      "source": [
        "df.shape[0]"
      ],
      "metadata": {
        "colab": {
          "base_uri": "https://localhost:8080/"
        },
        "id": "TC85SFTiAEoK",
        "outputId": "17275519-de33-4da1-e402-5860130bc72e"
      },
      "execution_count": null,
      "outputs": [
        {
          "output_type": "execute_result",
          "data": {
            "text/plain": [
              "7791"
            ]
          },
          "metadata": {},
          "execution_count": 47
        }
      ]
    },
    {
      "cell_type": "markdown",
      "source": [
        "> The original dataframe has 7791 rows\n",
        "\n",
        "\n"
      ],
      "metadata": {
        "id": "gEV9uzULAE2u"
      }
    },
    {
      "cell_type": "code",
      "execution_count": null,
      "metadata": {
        "id": "HsDyuPIgVJJ6",
        "colab": {
          "base_uri": "https://localhost:8080/"
        },
        "outputId": "0c770353-eb62-439a-811a-145f78b91ee7"
      },
      "outputs": [
        {
          "output_type": "execute_result",
          "data": {
            "text/plain": [
              "77"
            ]
          },
          "metadata": {},
          "execution_count": 48
        }
      ],
      "source": [
        "df[df.duplicated()].shape[0]"
      ]
    },
    {
      "cell_type": "markdown",
      "source": [
        "> From the output above, we can notice that there are 77 duplicated rows"
      ],
      "metadata": {
        "id": "Z4SqGE-AADMo"
      }
    },
    {
      "cell_type": "code",
      "execution_count": null,
      "metadata": {
        "id": "1Et9QhCbVJJ6"
      },
      "outputs": [],
      "source": [
        "#removing duplicated rows\n",
        "df = df.drop_duplicates()"
      ]
    },
    {
      "cell_type": "code",
      "execution_count": null,
      "metadata": {
        "id": "yBxDax1KVJJ6",
        "colab": {
          "base_uri": "https://localhost:8080/"
        },
        "outputId": "f6c2958f-b171-4600-a60f-e2dbbb944f5e"
      },
      "outputs": [
        {
          "output_type": "execute_result",
          "data": {
            "text/plain": [
              "7714"
            ]
          },
          "metadata": {},
          "execution_count": 50
        }
      ],
      "source": [
        "df.shape[0]"
      ]
    },
    {
      "cell_type": "markdown",
      "source": [
        "\n",
        "\n",
        "> The number of rows after dropping duplicated rows is 7714.\n",
        "\n"
      ],
      "metadata": {
        "id": "LKHUwqflAvun"
      }
    },
    {
      "cell_type": "code",
      "source": [
        "#print the number of unique value in each column\n",
        "for col in df:\n",
        "  print(col, ' : ', df[col].nunique())"
      ],
      "metadata": {
        "colab": {
          "base_uri": "https://localhost:8080/"
        },
        "id": "5SHUJb2-f6P2",
        "outputId": "91274790-2c0c-4f13-b5b4-8701e7ef0777"
      },
      "execution_count": null,
      "outputs": [
        {
          "output_type": "stream",
          "name": "stdout",
          "text": [
            "Title  :  7504\n",
            "Price  :  849\n",
            "Area  :  14\n",
            "Category  :  1\n",
            "Size  :  914\n",
            "Bedrooms  :  10\n",
            "Bathrooms  :  8\n"
          ]
        }
      ]
    },
    {
      "cell_type": "markdown",
      "source": [
        "We can notice that the category column only has one unique value. So, we will drop the column in our next code."
      ],
      "metadata": {
        "id": "w94lEsLsgRHQ"
      }
    },
    {
      "cell_type": "code",
      "source": [
        "df.drop('Category', axis=1, inplace=True)"
      ],
      "metadata": {
        "id": "576-J5bDgbO6"
      },
      "execution_count": null,
      "outputs": []
    },
    {
      "cell_type": "code",
      "source": [
        "df.shape[1]"
      ],
      "metadata": {
        "colab": {
          "base_uri": "https://localhost:8080/"
        },
        "id": "nPkwKu6lgurQ",
        "outputId": "05874692-134d-422e-eafa-d26a1113c236"
      },
      "execution_count": null,
      "outputs": [
        {
          "output_type": "execute_result",
          "data": {
            "text/plain": [
              "6"
            ]
          },
          "metadata": {},
          "execution_count": 60
        }
      ]
    },
    {
      "cell_type": "markdown",
      "source": [
        "After dropping the column, We have 6 columns left."
      ],
      "metadata": {
        "id": "6R1QboPjgy2x"
      }
    },
    {
      "cell_type": "markdown",
      "source": [
        "\n",
        "**Data Parsing for each columns**\n",
        "\n",
        "Since some of data are useful for numerical analysis, we convert them into integer data type."
      ],
      "metadata": {
        "id": "n24ajhx8DpXp"
      }
    },
    {
      "cell_type": "code",
      "source": [
        "df['Price'].replace('RM', '', regex=True, inplace=True) #remove the currency unit \n",
        "df['Price'].replace(' ', '', regex=True, inplace=True)  #remove blank space\n",
        "df['Price'] = df['Price'].astype(str).astype(int)       #convert the datatypes to integer\n",
        "df = df.rename(columns={'Price' : 'Price(RM)'})         #rename the column \n"
      ],
      "metadata": {
        "id": "qApEQP7yDnrs"
      },
      "execution_count": null,
      "outputs": []
    },
    {
      "cell_type": "code",
      "source": [
        "df['Size'].replace('sq.ft.', '', regex=True, inplace=True) #remove the size unit \n",
        "df['Size'].replace(' ', '', regex=True, inplace=True)      #remove blank space\n",
        "df['Size'] = df['Size'].astype(str).astype(int)            #convert the datatypes to integer\n",
        "df = df.rename(columns={'Size' : 'Size(sq.ft.)'})          #rename the column \n"
      ],
      "metadata": {
        "id": "7ZohwSZ7CzD9"
      },
      "execution_count": null,
      "outputs": []
    },
    {
      "cell_type": "code",
      "source": [
        "df['Bedrooms'].unique()"
      ],
      "metadata": {
        "colab": {
          "base_uri": "https://localhost:8080/"
        },
        "id": "1CsIv0P3Ih8j",
        "outputId": "abe4e4a0-b617-4971-893f-96071658a2ed"
      },
      "execution_count": null,
      "outputs": [
        {
          "output_type": "execute_result",
          "data": {
            "text/plain": [
              "array(['2 Bedrooms', '3 Bedrooms', '4 Bedrooms', '1 Bedroom',\n",
              "       '5 Bedrooms', '8 Bedrooms', '6 Bedrooms', '9 Bedrooms',\n",
              "       'More than 10 Bedroom', '7 Bedrooms'], dtype=object)"
            ]
          },
          "metadata": {},
          "execution_count": 56
        }
      ]
    },
    {
      "cell_type": "code",
      "source": [
        "df['Bedrooms'].replace('Bedrooms', '', regex=True, inplace=True) #remove the unit \n",
        "df['Bedrooms'].replace('Bedroom', '', regex=True, inplace=True)  #remove the unit \n",
        "df['Bedrooms'].replace('More than', '', regex=True, inplace=True)#remove the unnecessary wording \n",
        "df['Bedrooms'].replace(' ', '', regex=True, inplace=True)        #remove blank space\n",
        "df['Bedrooms'] = df['Bedrooms'].astype(str).astype(int)          #convert the datatypes to string"
      ],
      "metadata": {
        "id": "O3li7myFDwlb"
      },
      "execution_count": null,
      "outputs": []
    },
    {
      "cell_type": "code",
      "source": [
        "df['Bathrooms'].unique()"
      ],
      "metadata": {
        "colab": {
          "base_uri": "https://localhost:8080/"
        },
        "id": "tr77LtxHYEsJ",
        "outputId": "6dedd3c5-138f-4719-d17c-c1a705eff7cc"
      },
      "execution_count": null,
      "outputs": [
        {
          "output_type": "execute_result",
          "data": {
            "text/plain": [
              "array(['2 Bathrooms', '1 Bathroom', '4 Bathrooms', '3 Bathrooms',\n",
              "       '5 Bathrooms', '6 Bathrooms', '10 Bathrooms', '7 Bathrooms'],\n",
              "      dtype=object)"
            ]
          },
          "metadata": {},
          "execution_count": 58
        }
      ]
    },
    {
      "cell_type": "code",
      "source": [
        "df['Bathrooms'].replace('Bathrooms', '', regex=True, inplace=True) #remove the unit \n",
        "df['Bathrooms'].replace('Bathroom', '', regex=True, inplace=True)  #remove the unit \n",
        "df['Bathrooms'].replace(' ', '', regex=True, inplace=True)         #remove blank space\n",
        "df['Bathrooms'] = df['Bathrooms'].astype(str).astype(int)          #convert the datatypes to string"
      ],
      "metadata": {
        "id": "ECn7deDuY0j_"
      },
      "execution_count": null,
      "outputs": []
    },
    {
      "cell_type": "code",
      "source": [
        "df.info()"
      ],
      "metadata": {
        "colab": {
          "base_uri": "https://localhost:8080/"
        },
        "id": "QIeNGmZZZGC6",
        "outputId": "f150b1c7-90b6-425c-c1c3-f1fcc8287a08"
      },
      "execution_count": null,
      "outputs": [
        {
          "output_type": "stream",
          "name": "stdout",
          "text": [
            "<class 'pandas.core.frame.DataFrame'>\n",
            "Int64Index: 7714 entries, 0 to 7790\n",
            "Data columns (total 7 columns):\n",
            " #   Column        Non-Null Count  Dtype \n",
            "---  ------        --------------  ----- \n",
            " 0   Title         7714 non-null   object\n",
            " 1   Price(RM)     7714 non-null   int64 \n",
            " 2   Area          7714 non-null   object\n",
            " 3   Category      7714 non-null   object\n",
            " 4   Size(sq.ft.)  7714 non-null   int64 \n",
            " 5   Bedrooms      7714 non-null   int64 \n",
            " 6   Bathrooms     7714 non-null   int64 \n",
            "dtypes: int64(4), object(3)\n",
            "memory usage: 482.1+ KB\n"
          ]
        }
      ]
    },
    {
      "cell_type": "markdown",
      "metadata": {
        "id": "_0m5LkbVVJJ6"
      },
      "source": [
        "## Exploratory Analysis and Visualization\n",
        "\n",
        "**TODO** - write some explanation here.\n",
        "\n"
      ]
    },
    {
      "cell_type": "markdown",
      "metadata": {
        "id": "6knKGHajVJJ6"
      },
      "source": [
        "> Instructions (delete this cell)\n",
        "> \n",
        "> - Compute the mean, sum, range and other interesting statistics for numeric columns\n",
        "> - Explore distributions of numeric columns using histograms etc.\n",
        "> - Explore relationship between columns using scatter plots, bar charts etc.\n",
        "> - Make a note of interesting insights from the exploratory analysis"
      ]
    },
    {
      "cell_type": "markdown",
      "metadata": {
        "id": "RuPTpsGWVJJ7"
      },
      "source": [
        "Let's begin by importing`matplotlib.pyplot` and `seaborn`."
      ]
    },
    {
      "cell_type": "code",
      "execution_count": null,
      "metadata": {
        "id": "zOTtwqAMVJJ7"
      },
      "outputs": [],
      "source": [
        "import seaborn as sns\n",
        "import matplotlib\n",
        "import matplotlib.pyplot as plt\n",
        "%matplotlib inline\n",
        "\n",
        "sns.set_style('darkgrid')\n",
        "matplotlib.rcParams['font.size'] = 14\n",
        "matplotlib.rcParams['figure.figsize'] = (9, 5)\n",
        "matplotlib.rcParams['figure.facecolor'] = '#00000000'"
      ]
    },
    {
      "cell_type": "markdown",
      "source": [
        "**Descriptive Statistics**"
      ],
      "metadata": {
        "id": "Jc3lNXPlBUvB"
      }
    },
    {
      "cell_type": "code",
      "source": [
        "df.describe()"
      ],
      "metadata": {
        "id": "bcwZIcjuBpNQ",
        "outputId": "9fd8df1d-937a-4554-fb72-6618456e3cbf",
        "colab": {
          "base_uri": "https://localhost:8080/",
          "height": 173
        }
      },
      "execution_count": null,
      "outputs": [
        {
          "output_type": "error",
          "ename": "NameError",
          "evalue": "ignored",
          "traceback": [
            "\u001b[0;31m---------------------------------------------------------------------------\u001b[0m",
            "\u001b[0;31mNameError\u001b[0m                                 Traceback (most recent call last)",
            "\u001b[0;32m<ipython-input-1-ea8415b8a3ee>\u001b[0m in \u001b[0;36m<module>\u001b[0;34m\u001b[0m\n\u001b[0;32m----> 1\u001b[0;31m \u001b[0mdf\u001b[0m\u001b[0;34m.\u001b[0m\u001b[0mdescribe\u001b[0m\u001b[0;34m(\u001b[0m\u001b[0;34m)\u001b[0m\u001b[0;34m\u001b[0m\u001b[0;34m\u001b[0m\u001b[0m\n\u001b[0m",
            "\u001b[0;31mNameError\u001b[0m: name 'df' is not defined"
          ]
        }
      ]
    },
    {
      "cell_type": "markdown",
      "metadata": {
        "id": "Fv4NPHasVJJ7"
      },
      "source": [
        "**TODO** - Explore one or more columns by plotting a graph below, and add some explanation about it"
      ]
    },
    {
      "cell_type": "code",
      "execution_count": null,
      "metadata": {
        "id": "NKN6RIplVJJ7"
      },
      "outputs": [],
      "source": []
    },
    {
      "cell_type": "code",
      "execution_count": null,
      "metadata": {
        "id": "-Scf_lKnVJJ7"
      },
      "outputs": [],
      "source": []
    },
    {
      "cell_type": "markdown",
      "metadata": {
        "id": "Dn_AW-5uVJJ7"
      },
      "source": [
        "**TODO** - Explore one or more columns by plotting a graph below, and add some explanation about it"
      ]
    },
    {
      "cell_type": "code",
      "execution_count": null,
      "metadata": {
        "id": "c7fugjWzVJJ7"
      },
      "outputs": [],
      "source": []
    },
    {
      "cell_type": "code",
      "execution_count": null,
      "metadata": {
        "id": "pPnlFwy2VJJ7"
      },
      "outputs": [],
      "source": []
    },
    {
      "cell_type": "markdown",
      "metadata": {
        "id": "rN1bUu8RVJJ7"
      },
      "source": [
        "**TODO** - Explore one or more columns by plotting a graph below, and add some explanation about it"
      ]
    },
    {
      "cell_type": "code",
      "execution_count": null,
      "metadata": {
        "id": "kMrm6CiAVJJ8"
      },
      "outputs": [],
      "source": []
    },
    {
      "cell_type": "code",
      "execution_count": null,
      "metadata": {
        "id": "RSt7KlcfVJJ8"
      },
      "outputs": [],
      "source": []
    },
    {
      "cell_type": "markdown",
      "metadata": {
        "id": "tLNLw0EOVJJ8"
      },
      "source": [
        "**TODO** - Explore one or more columns by plotting a graph below, and add some explanation about it"
      ]
    },
    {
      "cell_type": "code",
      "execution_count": null,
      "metadata": {
        "id": "61sgf555VJJ8"
      },
      "outputs": [],
      "source": []
    },
    {
      "cell_type": "code",
      "execution_count": null,
      "metadata": {
        "id": "fOQ9cTWiVJJ8"
      },
      "outputs": [],
      "source": []
    },
    {
      "cell_type": "markdown",
      "metadata": {
        "id": "nt_CVhi-VJJ8"
      },
      "source": [
        "**TODO** - Explore one or more columns by plotting a graph below, and add some explanation about it"
      ]
    },
    {
      "cell_type": "code",
      "execution_count": null,
      "metadata": {
        "id": "Zatc4Si_VJJ8"
      },
      "outputs": [],
      "source": []
    },
    {
      "cell_type": "code",
      "execution_count": null,
      "metadata": {
        "id": "RBYoxztOVJJ8"
      },
      "outputs": [],
      "source": []
    },
    {
      "cell_type": "markdown",
      "metadata": {
        "id": "E0U3IWm8VJJ9"
      },
      "source": [
        "## Asking and Answering Questions\n",
        "\n",
        "TODO - write some explanation here.\n",
        "\n"
      ]
    },
    {
      "cell_type": "markdown",
      "metadata": {
        "id": "SjXvLl4dVJJ9"
      },
      "source": [
        "> Instructions (delete this cell)\n",
        ">\n",
        "> - Ask at least 5 interesting questions about your dataset\n",
        "> - Answer the questions either by computing the results using Numpy/Pandas or by plotting graphs using Matplotlib/Seaborn\n",
        "> - Create new columns, merge multiple dataset and perform grouping/aggregation wherever necessary\n",
        "> - Wherever you're using a library function from Pandas/Numpy/Matplotlib etc. explain briefly what it does\n",
        "\n"
      ]
    },
    {
      "cell_type": "markdown",
      "metadata": {
        "id": "7Lor5rHMVJJ9"
      },
      "source": [
        "#### Q1: TODO - ask a question here and answer it below"
      ]
    },
    {
      "cell_type": "code",
      "execution_count": null,
      "metadata": {
        "id": "D-PdOKqCVJJ9"
      },
      "outputs": [],
      "source": []
    },
    {
      "cell_type": "code",
      "execution_count": null,
      "metadata": {
        "id": "pR1HdQ4JVJJ9"
      },
      "outputs": [],
      "source": []
    },
    {
      "cell_type": "code",
      "execution_count": null,
      "metadata": {
        "id": "LKIZxnawVJJ9"
      },
      "outputs": [],
      "source": []
    },
    {
      "cell_type": "markdown",
      "metadata": {
        "id": "c_REVnrhVJJ-"
      },
      "source": [
        "#### Q2: TODO - ask a question here and answer it below"
      ]
    },
    {
      "cell_type": "code",
      "execution_count": null,
      "metadata": {
        "id": "ShA3QyQpVJJ-"
      },
      "outputs": [],
      "source": []
    },
    {
      "cell_type": "code",
      "execution_count": null,
      "metadata": {
        "id": "dvyLd9MdVJJ-"
      },
      "outputs": [],
      "source": []
    },
    {
      "cell_type": "code",
      "execution_count": null,
      "metadata": {
        "id": "tdjrhzySVJJ-"
      },
      "outputs": [],
      "source": []
    },
    {
      "cell_type": "markdown",
      "metadata": {
        "id": "ya3o0SurVJJ-"
      },
      "source": [
        "#### Q3: TODO - ask a question here and answer it below"
      ]
    },
    {
      "cell_type": "code",
      "execution_count": null,
      "metadata": {
        "id": "CaF9SiPeVJJ-"
      },
      "outputs": [],
      "source": []
    },
    {
      "cell_type": "code",
      "execution_count": null,
      "metadata": {
        "id": "bGV1nEzqVJJ-"
      },
      "outputs": [],
      "source": []
    },
    {
      "cell_type": "code",
      "execution_count": null,
      "metadata": {
        "id": "1y8gWqGcVJJ-"
      },
      "outputs": [],
      "source": []
    },
    {
      "cell_type": "markdown",
      "metadata": {
        "id": "p4CcVO1TVJJ-"
      },
      "source": [
        "#### Q4: TODO - ask a question here and answer it below"
      ]
    },
    {
      "cell_type": "code",
      "execution_count": null,
      "metadata": {
        "id": "Wa96BGX1VJJ-"
      },
      "outputs": [],
      "source": []
    },
    {
      "cell_type": "code",
      "execution_count": null,
      "metadata": {
        "id": "R_C78KePVJJ-"
      },
      "outputs": [],
      "source": []
    },
    {
      "cell_type": "code",
      "execution_count": null,
      "metadata": {
        "id": "i4iTQAxBVJJ_"
      },
      "outputs": [],
      "source": []
    },
    {
      "cell_type": "markdown",
      "metadata": {
        "id": "uFuZBqX1VJJ_"
      },
      "source": [
        "#### Q5: TODO - ask a question here and answer it below"
      ]
    },
    {
      "cell_type": "code",
      "execution_count": null,
      "metadata": {
        "id": "0XCOkgIHVJJ_"
      },
      "outputs": [],
      "source": []
    },
    {
      "cell_type": "code",
      "execution_count": null,
      "metadata": {
        "id": "xZWIg8jJVJJ_"
      },
      "outputs": [],
      "source": []
    },
    {
      "cell_type": "code",
      "execution_count": null,
      "metadata": {
        "id": "MMExemAYVJJ_"
      },
      "outputs": [],
      "source": []
    },
    {
      "cell_type": "markdown",
      "metadata": {
        "id": "VxoO755tVJJ_"
      },
      "source": [
        "## Inferences and Conclusion\n",
        "\n",
        "**TODO** - Write some explanation here: a summary of all the inferences drawn from the analysis, and any conclusions you may have drawn by answering various questions."
      ]
    },
    {
      "cell_type": "code",
      "execution_count": null,
      "metadata": {
        "id": "kZ1_OOfbVJKA"
      },
      "outputs": [],
      "source": []
    },
    {
      "cell_type": "code",
      "execution_count": null,
      "metadata": {
        "id": "MtFJFEuMVJKA"
      },
      "outputs": [],
      "source": []
    },
    {
      "cell_type": "markdown",
      "metadata": {
        "id": "xfuc6sJgVJKA"
      },
      "source": [
        "## References and Future Work\n",
        "\n",
        "**TODO** - Write some explanation here: ideas for future projects using this dataset, and links to resources you found useful."
      ]
    },
    {
      "cell_type": "markdown",
      "metadata": {
        "id": "s9w8LQGaVJKA"
      },
      "source": [
        "> Submission Instructions (delete this cell)\n",
        "> \n",
        "> - Upload your notebook to E-learning\n",
        "\n",
        "\n",
        " "
      ]
    },
    {
      "cell_type": "code",
      "execution_count": null,
      "metadata": {
        "id": "OuvFcAJoVJKA"
      },
      "outputs": [],
      "source": []
    },
    {
      "cell_type": "code",
      "execution_count": null,
      "metadata": {
        "scrolled": true,
        "id": "VWI2hEA1VJKA"
      },
      "outputs": [],
      "source": []
    },
    {
      "cell_type": "code",
      "execution_count": null,
      "metadata": {
        "id": "VT58I-b9VJKB"
      },
      "outputs": [],
      "source": []
    }
  ],
  "metadata": {
    "kernelspec": {
      "display_name": "Python 3",
      "language": "python",
      "name": "python3"
    },
    "language_info": {
      "codemirror_mode": {
        "name": "ipython",
        "version": 3
      },
      "file_extension": ".py",
      "mimetype": "text/x-python",
      "name": "python",
      "nbconvert_exporter": "python",
      "pygments_lexer": "ipython3",
      "version": "3.8.5"
    },
    "colab": {
      "provenance": [],
      "include_colab_link": true
    }
  },
  "nbformat": 4,
  "nbformat_minor": 0
}